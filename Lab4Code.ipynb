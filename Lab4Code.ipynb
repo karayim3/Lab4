{
  "nbformat": 4,
  "nbformat_minor": 0,
  "metadata": {
    "colab": {
      "provenance": [],
      "include_colab_link": true
    },
    "kernelspec": {
      "name": "python3",
      "display_name": "Python 3"
    },
    "language_info": {
      "name": "python"
    }
  },
  "cells": [
    {
      "cell_type": "markdown",
      "metadata": {
        "id": "view-in-github",
        "colab_type": "text"
      },
      "source": [
        "<a href=\"https://colab.research.google.com/github/karayim3/Lab4/blob/main/Lab4Code.ipynb\" target=\"_parent\"><img src=\"https://colab.research.google.com/assets/colab-badge.svg\" alt=\"Open In Colab\"/></a>"
      ]
    },
    {
      "cell_type": "markdown",
      "metadata": {
        "id": "1aBVFYV2uz5k"
      },
      "source": [
        "#[PyMan 0.9.31 Introduction to Python for Science](https://www.taylorfrancis.com/books/mono/10.1201/9780429506413/introduction-python-science-engineering-david-pine)\n",
        "\n",
        "###The following exercises correspond to chapter [4: Input and Output](https://www.taylorfrancis.com/chapters/mono/10.1201/9780429506413-4/input-output-david-pine)\n",
        "\n",
        "[old chapter link](https://physics.nyu.edu/pine/pymanual/html/chap4/chap4_io.html)"
      ]
    },
    {
      "cell_type": "code",
      "metadata": {
        "id": "mn4ubS38JhuG"
      },
      "source": [
        "import numpy as np"
      ],
      "execution_count": null,
      "outputs": []
    },
    {
      "cell_type": "markdown",
      "metadata": {
        "id": "swqIV9ZB-qvZ"
      },
      "source": [
        "Look left <-----\n",
        "\n",
        "There's a folder icon on the bar.\n",
        "\n",
        "Click it.\n",
        "\n",
        "You should see a folder called \"sample_data.\" You don't need this sample data! It's a gift from google that you don't want. I wish there was some kind of [metaphor](https://www.dailymotion.com/video/x2hwqlw) for this situation.\n",
        "\n",
        "The code block below will download the data file and display its contents."
      ]
    },
    {
      "cell_type": "code",
      "metadata": {
        "id": "c97uooE49Li8",
        "colab": {
          "base_uri": "https://localhost:8080/"
        },
        "outputId": "3115c1b0-e1c0-449d-c96f-88fd3d2e50dd"
      },
      "source": [
        "!wget -nc https://github.com/karayim3/Lab4/blob/0a6207772d4cddcb7d08dc25b4b59e4e31757f6d/lab4_%20rubber_tube.csv\n",
        "!more lab4_rubber_tube.csv"
      ],
      "execution_count": 1,
      "outputs": [
        {
          "output_type": "stream",
          "name": "stdout",
          "text": [
            "--2023-11-06 19:32:25--  https://github.com/karayim3/Lab4/blob/0a6207772d4cddcb7d08dc25b4b59e4e31757f6d/lab4_%20rubber_tube.csv\n",
            "Resolving github.com (github.com)... 140.82.113.4\n",
            "Connecting to github.com (github.com)|140.82.113.4|:443... connected.\n",
            "HTTP request sent, awaiting response... 200 OK\n",
            "Length: 4741 (4.6K) [text/plain]\n",
            "Saving to: ‘lab4_ rubber_tube.csv’\n",
            "\n",
            "\rlab4_ rubber_tube.c   0%[                    ]       0  --.-KB/s               \rlab4_ rubber_tube.c 100%[===================>]   4.63K  --.-KB/s    in 0s      \n",
            "\n",
            "2023-11-06 19:32:25 (47.6 MB/s) - ‘lab4_ rubber_tube.csv’ saved [4741/4741]\n",
            "\n",
            "more: cannot open lab4_rubber_tube.csv: No such file or directory\n"
          ]
        }
      ]
    },
    {
      "cell_type": "markdown",
      "metadata": {
        "id": "ilrdAauiFSkS"
      },
      "source": [
        "You should check to see if your file is there. Click the folder with the circle arrow above the file lists (below the world Files); if you hover, it will say \"Refresh.\" Once it refreshes, you should see the file assignment4data.txt in the directory below the sample_data folder.\n"
      ]
    },
    {
      "cell_type": "markdown",
      "metadata": {
        "id": "X-emeIOQsp2a"
      },
      "source": [
        "##4.5.1\n",
        "\n",
        "Write a Python program that calculates how much money you can spend each day for lunch for the rest of the month based on today's date and how much money you currently have in your lunch account. The program should ask you: (1) how much money you have in your account, (2) what today's date is, and (3) how many days there are in this month. The program should return your daily allowance. The results of running your program should look like this:\n",
        "\n",
        "```\n",
        "How much money (in dollars) in your lunch account? 118.39\n",
        "\n",
        "What day of the month is today? 17\n",
        "\n",
        "How many days in this month? 30\n",
        "\n",
        "You can spend $8.46 each day for the rest of the month.\n",
        "```\n",
        "\n",
        "_Extra:_ Create a dictionary (see _[Dictionaries](https://physics.nyu.edu/pine/pymanual/html/chap3/chap3_arrays.html#chap3dictionaries)_) that stores the number of days in each month (forget about leap years) and have your program ask what month it is rather than the number of days in the month."
      ]
    },
    {
      "cell_type": "code",
      "metadata": {
        "id": "toJKg656sXwD",
        "colab": {
          "base_uri": "https://localhost:8080/"
        },
        "outputId": "fd08d2d2-17f9-45c1-b5e7-b581718e51ad"
      },
      "source": [
        "##USE THIS CODE BLOCK TO COMPLETE EXERCISE 4.5.1##\n",
        "lunch_balance = float(input(\"How much money (in dollars) is in your lunch account? \"))\n",
        "todays_day = int(input(\"What day of the month is today? \"))\n",
        "days_in_month = int(input(\"How many days are in this month? \"))\n",
        "\n",
        "# calculate how much you can spend for each day for the rest of the month\n",
        "# see how many days are left in the month\n",
        "days_left = days_in_month - todays_day + 1  # add 1 to account for today\n",
        "# now divide the lunch balance evenly across these days\n",
        "daily_allowance = lunch_balance / days_left\n",
        "\n",
        "print(f\"You can spend ${daily_allowance:.2f} each day for the rest of the month.\")  # round to 2 decimal places for money"
      ],
      "execution_count": null,
      "outputs": [
        {
          "output_type": "stream",
          "name": "stdout",
          "text": [
            "How much money (in dollars) is in your lunch account? 118.39\n",
            "What day of the month is today? 17\n",
            "How many days are in this month? 30\n",
            "You can spend $8.46 each day for the rest of the month.\n"
          ]
        }
      ]
    },
    {
      "cell_type": "markdown",
      "metadata": {
        "id": "Jy5ZpuxhvR59"
      },
      "source": [
        "##4.5.2\n",
        "\n",
        "From the IPython terminal, create the following three NumPy arrays:\n",
        "\n",
        "```\n",
        "a = array([1, 3, 5, 7])\n",
        "b = array([8, 7, 5, 4])\n",
        "c = array([0, 9,-6,-8])\n",
        "```\n",
        "\n",
        "Now use the `zip` function to create the object `d` defined as\n",
        "\n",
        "```\n",
        "d = zip(a, b, c)\n",
        "```\n",
        "\n",
        "Print `d` out at the terminal prompt. What kind of object is `d`? Hint: It is not a NumPy array. Convert `d` into a NumPy array and call that array `e`. Type `e` at the terminal prompt so that `e` is printed out on the IPython terminal. One of the elements of `e` is `-8`. Show how to address and print out just that element of `e`. Show how to address that same element of `d`. What has become of the three original arrays `a`,`b`, and `c`, that is, how do they appear in `e`?"
      ]
    },
    {
      "cell_type": "code",
      "metadata": {
        "id": "tIeYCRwYwKnU",
        "colab": {
          "base_uri": "https://localhost:8080/"
        },
        "outputId": "e7f8446c-4b2e-4cd2-a13d-5bb256565b23"
      },
      "source": [
        "##USE THIS CODE BLOCK TO COMPLETE EXERCISE 4.5.2##\n",
        "a = np.array([1, 3, 5, 7])\n",
        "b = np.array([8, 7, 5, 4])\n",
        "c = np.array([0, 9, -6, -8])\n",
        "d = zip(a, b, c)\n",
        "d_tuple = tuple(d) # if i dont make it a tuple, it gives a weird output\n",
        "print(\"d:\", d_tuple)\n",
        "print(\"d is a\", type(d), \"but what is printed above is a\", type(d_tuple))\n",
        "\n",
        "# the * operator can unzip\n",
        "unzipped_d = zip(*d_tuple)\n",
        "e_list = list(unzipped_d)\n",
        "e_array = np.array(e_list)\n",
        "print(\"e:\", e_array)\n",
        "\n",
        "# to print out which elements of e is -8, we can use numpy.where(condition[, x, y])\n",
        "# x and y show what to print if condition is True and False respectively. we dont need this\n",
        "# first address the element that equals -8\n",
        "print(\"The element of e that is -8 is at\", np.where(e_array == -8))\n",
        "# now print out this element\n",
        "print(\"This element is\", e_array[np.where(e_array == -8)])\n",
        "\n",
        "# address the same element that equals -8 but in d\n",
        "# tuple_name[index] allows you to access elements of a tuple\n",
        "for i in d_tuple:\n",
        "  if -8 in d_tuple[d_tuple.index(i)]:\n",
        "    print(\"The element of d that -8 is in is\", i)\n",
        "    print(\"The index of this element is\", d_tuple.index(i))  # this is accessed by print(d_tuple[3][2])\n",
        "\n",
        "# how do a b and c change\n",
        "print(\"The original arrays a, b, and c are reformatted together as separate indexes of array e. Their elements stay the same.\")"
      ],
      "execution_count": null,
      "outputs": [
        {
          "output_type": "stream",
          "name": "stdout",
          "text": [
            "d: ((1, 8, 0), (3, 7, 9), (5, 5, -6), (7, 4, -8))\n",
            "d is a <class 'zip'> but what is printed above is a <class 'tuple'>\n",
            "e: [[ 1  3  5  7]\n",
            " [ 8  7  5  4]\n",
            " [ 0  9 -6 -8]]\n",
            "The element of e that is -8 is at (array([2]), array([3]))\n",
            "This element is [-8]\n",
            "The element of d that -8 is in is (7, 4, -8)\n",
            "The index of this element is 3\n",
            "The original arrays a, b, and c are reformatted together as separate indexes of array e. Their elements stay the same.\n"
          ]
        }
      ]
    },
    {
      "cell_type": "markdown",
      "metadata": {
        "id": "lZw6-RAVwf4F"
      },
      "source": [
        "##4.5.3\n",
        "\n",
        "Write a Python script to read \"assignment4data.txt\" into three NumPy arrays with the variable names `f`,`a`,`da` for the frequency, amplitude, and amplitude error.\n",
        "\n",
        "```\n",
        "Date: 2013-09-16\n",
        "Data taken by Liam and Selena\n",
        "frequency (Hz) amplitude (mm)  amp error (mm)\n",
        "  0.7500        13.52         0.32\n",
        "  1.7885        12.11         0.92\n",
        "  2.8269        14.27         0.73\n",
        "  3.8654        16.60         2.06\n",
        "  4.9038        22.91         1.75\n",
        "  5.9423        35.28         0.91\n",
        "  6.9808        60.99         0.99\n",
        "  8.0192        33.38         0.36\n",
        "  9.0577        17.78         2.32\n",
        " 10.0962        10.99         0.21\n",
        " 11.1346         7.47         0.48\n",
        " 12.1731         6.72         0.51\n",
        " 13.2115         4.40         0.58\n",
        " 14.2500         4.07         0.63\n",
        " ```\n",
        "\n",
        "Show that you have correctly read in the data by having your script print out to your computer screen the three arrays. Format the printing so that it produces output like this:\n",
        "\n",
        "```\n",
        "f =\n",
        "[  0.75     1.7885   2.8269   3.8654   4.9038   5.9423\n",
        "   6.9808   8.0192   9.0577  10.0962  11.1346  12.1731\n",
        "   13.2115  14.25  ]\n",
        "a =\n",
        "[ 13.52  12.11  14.27  16.6   22.91  35.28  60.99  33.38\n",
        "  17.78  10.99   7.47   6.72   4.4    4.07]\n",
        "da =\n",
        "[ 0.32  0.92  0.73  2.06  1.75  0.91  0.99  0.36  2.32\n",
        "  0.21  0.48  0.51  0.58  0.63]\n",
        "```\n",
        "\n",
        "Note that the array `f` is displayed with four digits to the right of the decimal point while the arrays `a` and `da` are displayed with only two. The columns of the displayed arrays need not line up as they do above."
      ]
    },
    {
      "cell_type": "code",
      "metadata": {
        "id": "Rh3sF1L9xWp0",
        "colab": {
          "base_uri": "https://localhost:8080/"
        },
        "outputId": "7ee4c0dd-9e8b-4cdc-8197-1bbf0e43bc5a"
      },
      "source": [
        "##USE THIS CODE BLOCK TO COMPLETE EXERCISE 4.5.3##\n",
        "# the loadtxt function allows you to access the data in a txt file\n",
        "# first argument is the file name as a string, skiprows skips that many rows (for headers), unpack outputs the data\n",
        "# setting these equal to variables allows you to print out each column separately\n",
        "f, a, da = np.loadtxt('assignment4data.txt', skiprows=3, unpack=True)\n",
        "print(\"f =\", f)  # since f is already formatted with 4 digits after the decimal, i do not need to round\n",
        "print(\"a =\", a)  # we do not need to round a\n",
        "print(\"da =\", da)  # we do not need to round da"
      ],
      "execution_count": null,
      "outputs": [
        {
          "output_type": "stream",
          "name": "stdout",
          "text": [
            "f = [ 0.75    1.7885  2.8269  3.8654  4.9038  5.9423  6.9808  8.0192  9.0577\n",
            " 10.0962 11.1346 12.1731 13.2115 14.25  ]\n",
            "a = [13.52 12.11 14.27 16.6  22.91 35.28 60.99 33.38 17.78 10.99  7.47  6.72\n",
            "  4.4   4.07]\n",
            "da = [0.32 0.92 0.73 2.06 1.75 0.91 0.99 0.36 2.32 0.21 0.48 0.51 0.58 0.63]\n"
          ]
        }
      ]
    },
    {
      "cell_type": "markdown",
      "metadata": {
        "id": "bM7bwbH_xcxQ"
      },
      "source": [
        "##4.5.4\n",
        "\n",
        "Now write the data you just read (`f`, `a`, `da`)  to a data file, including the header, with the data displayed in three columns, just as its displayed in the problem above. It's ok if the header lines begin with the `#` comment character. Your data file should be called `textfileanswer.txt`."
      ]
    },
    {
      "cell_type": "code",
      "metadata": {
        "id": "aJOXa7KByDxX"
      },
      "source": [
        "##USE THIS CODE BLOCK TO COMPLETE EXERCISE 4.5.4##\n",
        "# savetxt is the counterpart of loadtxt\n",
        "# first, copy the data read from 4.5.3 to set the variables\n",
        "f, a, da = np.loadtxt('assignment4data.txt', skiprows=3, unpack=True)\n",
        "# the header argument allows you to enter headers in the file before the data\n",
        "info = \"Date: 2013-09-16\"\n",
        "info += \"\\nData taken by Liam and Selena\"\n",
        "info += \"\\nfrequency (Hz)  amplitude (mm)  amp error(mm)\"\n",
        "# if we want it displayed in 3 columns, we need to zip the arrays\n",
        "np.savetxt(\"textfileanswer.txt\", list(zip(f, a, da)), header=info, fmt=[\"%14.4f\", \"%14.2f\", \"%14.2f\"])\n",
        "# the fmt makes it so the data has minimum width of 14 width and different roundings for each data set"
      ],
      "execution_count": null,
      "outputs": []
    },
    {
      "cell_type": "markdown",
      "metadata": {
        "id": "erlKkKKZyF3G"
      },
      "source": [
        "##4.5.5\n",
        "\n",
        "Now write the same data to a csv data file, **without the header**, to a data file called `csvfileanswer.csv` with the data displayed in three columns. Use a single format specifier and set it to `\"%0.16e\"`. If you have access to a spreadsheet program (like MS Excel), try opening the file you have created with your Python script and verify that the arrays are displayed in three columns. Note that your csv file should have the extension `.csv`."
      ]
    },
    {
      "cell_type": "code",
      "metadata": {
        "id": "qoijigtKyyeT"
      },
      "source": [
        "##USE THIS CODE BLOCK TO COMPLETE EXERCISE 4.5.5##\n",
        "# first, copy the data read from 4.5.3 to set the variables\n",
        "f, a, da = np.loadtxt('assignment4data.txt', skiprows=3, unpack=True)\n",
        "\n",
        "# same savetxt function but instead of a txt file we are saving a csv file\n",
        "# and instead of formatting each column separately, we are only using one format specifier\n",
        "np.savetxt(\"csvfileanswer.csv\", list(zip(f, a, da)), fmt=\"%0.16e\")\n",
        "# check in excel, it appears in 3 columns"
      ],
      "execution_count": null,
      "outputs": []
    },
    {
      "cell_type": "markdown",
      "metadata": {
        "id": "qsh52vdGF-rr"
      },
      "source": [
        "#YOU'RE NOT DONE!\n",
        "\n",
        "First, you should save a copy of this notebook to your github repository, using File>Save a copy in github, as usual. But this only commits your notebook. You'll also need to save the data files you created too!\n",
        "\n",
        "As soon as you close this browser, your beautiful files `textanswer.txt` and `csvanswer.csv` will dissappear into the ether. You need to turn them in so you can get a grade!\n",
        "\n",
        "1. Click on the dots next to each file's name (or right click on the file name) and select download.\n",
        "\n",
        "2. Open your repository on github ( it will be located at\n",
        "https://github.com/NYUExperimentalPhysics1-2021/assignment4-yourgithubusername  - you can also get to the repository from the github page that opens when you save your notebook in github) and click on the \"add file\" button and select upload. **OR**  you can go straight to the upload page at\n",
        "https://github.com/NYUExperimentalPhysics1-2021/assignment4-yourgithubusername/upload/main\n",
        "You'll have to replace \"yourgithubusername\" with your github username\n",
        "\n",
        "3. Drag the files you downloaded in Step 1 onto the upload box.\n",
        "\n",
        "4. Click commit changes (you can edit the commit message first if you want)\n",
        "\n",
        "\n"
      ]
    }
  ]
}